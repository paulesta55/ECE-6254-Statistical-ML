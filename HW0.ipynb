{
 "cells": [
  {
   "cell_type": "markdown",
   "metadata": {},
   "source": [
    "# Statistical Machine Learning \n",
    "## Self Assessment "
   ]
  },
  {
   "cell_type": "code",
   "execution_count": 3,
   "metadata": {},
   "outputs": [],
   "source": [
    "import numpy as np\n",
    "import matplotlib.pyplot as plt"
   ]
  },
  {
   "cell_type": "markdown",
   "metadata": {},
   "source": [
    "### Problem 4"
   ]
  },
  {
   "cell_type": "code",
   "execution_count": 81,
   "metadata": {},
   "outputs": [],
   "source": [
    "P = 0.4\n",
    "ALPHA = 0.05\n",
    "\n",
    "def simulate_bernoulli(n_range=(1,10000),n_simul=100,p=P, alpha=ALPHA, simulate=True):\n",
    "    def compute_epsilon(n,alpha):\n",
    "        epsilon = np.sqrt(np.log(2/alpha)/(2*n))\n",
    "        return epsilon\n",
    "    results = []\n",
    "    lengths = []\n",
    "    bound = 1-alpha\n",
    "    for n in range(n_range[0],n_range[1]):\n",
    "        n_contained = 0\n",
    "        epsilon = compute_epsilon(n=n,alpha=alpha)\n",
    "        tmp_lengths = []\n",
    "        for i in range(n_simul):\n",
    "            N = np.random.binomial(n=n,p=p)\n",
    "            contain = (N/n-epsilon)<=p and (N/n+epsilon)>=p \n",
    "            tmp_lengths.append(np.abs( epsilon)*2)\n",
    "            if contain:\n",
    "                n_contained += 1\n",
    "        lengths.append(np.average(tmp_lengths))\n",
    "        results.append( n_contained/n)\n",
    "    return results, lengths\n",
    "\n",
    "results, lengths=simulate_bernoulli()\n"
   ]
  },
  {
   "cell_type": "code",
   "execution_count": 82,
   "metadata": {},
   "outputs": [
    {
     "data": {
      "image/png": "[encoded data removed]",
      "text/plain": [
       "<Figure size 432x288 with 2 Axes>"
      ]
     },
     "metadata": {
      "needs_background": "light"
     },
     "output_type": "display_data"
    }
   ],
   "source": [
    "plt.figure()\n",
    "plt.subplot(121),plt.plot(range(1,10000),results),plt.title('Coverage in %\\nQuestion b')\n",
    "plt.subplot(122),plt.plot(range(1,10000),lengths),plt.title('Average length\\nQuestion c')\n",
    "plt.show()"
   ]
  },
  {
   "cell_type": "markdown",
   "metadata": {},
   "source": [
    "### Problem 9"
   ]
  },
  {
   "cell_type": "code",
   "execution_count": 16,
   "metadata": {},
   "outputs": [
    {
     "name": "stdout",
     "output_type": "stream",
     "text": [
      "(5, 5)\n",
      "rank(A)=3\n",
      "U=[[-5.23361762e-01 -1.83806348e-01  0.00000000e+00  8.32050294e-01\n",
      "   0.00000000e+00]\n",
      " [-7.85042643e-01 -2.75709522e-01  0.00000000e+00 -5.54700196e-01\n",
      "   0.00000000e+00]\n",
      " [ 3.31361606e-01 -9.43503835e-01  0.00000000e+00 -1.78547252e-16\n",
      "   0.00000000e+00]\n",
      " [ 0.00000000e+00  0.00000000e+00  7.07106781e-01  0.00000000e+00\n",
      "  -7.07106781e-01]\n",
      " [ 0.00000000e+00  0.00000000e+00  7.07106781e-01  0.00000000e+00\n",
      "   7.07106781e-01]],\n",
      "V=[7.55414623e+00 3.30679222e+00 2.82842712e+00 6.64786218e-17\n",
      " 0.00000000e+00],\n",
      "S=[[ 5.38058775e-01 -5.38058775e-01 -5.38058775e-01  3.62599315e-01\n",
      "   0.00000000e+00]\n",
      " [-2.09346812e-01  2.09346812e-01  2.09346812e-01  9.31945136e-01\n",
      "   0.00000000e+00]\n",
      " [ 0.00000000e+00  0.00000000e+00  0.00000000e+00  0.00000000e+00\n",
      "   1.00000000e+00]\n",
      " [ 3.24551235e-01 -4.86569412e-01  8.11120647e-01  3.01317673e-16\n",
      "   0.00000000e+00]\n",
      " [ 7.49221704e-01  6.55680467e-01  9.35412378e-02 -8.07984160e-17\n",
      "   0.00000000e+00]]\n"
     ]
    }
   ],
   "source": [
    "A = np.array([[-2, 2, 2, -2, 0],\n",
    "              [-3, 3, 3, -3, 0],\n",
    "              [2, -2, -2, -2, 0],\n",
    "             [0, 0, 0, 0, 2],\n",
    "             [0, 0, 0, 0, 2]])\n",
    "print(A.shape)\n",
    "print(\"rank(A)={}\".format(np.linalg.matrix_rank(A)))\n",
    "u,v, s = np.linalg.svd(A)\n",
    "print(\"U={0},\\nV={1},\\nS={2}\".format(u,v,s))"
   ]
  },
  {
   "cell_type": "markdown",
   "metadata": {},
   "source": [
    "### Problem 10"
   ]
  },
  {
   "cell_type": "markdown",
   "metadata": {},
   "source": [
    "To decompose $x$ with as linear combination of $p_1$, $p_2$, $p_3$ and $x_e$, we first compute the orthogonal basis of the span of $p_1$, $p_2$, $p_3$.\n",
    "This is done using the following numpy function which returns a QR factorization of a matrix:\n",
    "```python \n",
    "np.linalg.qr\n",
    "``` \n",
    "$Q$ columns generate an orthogonal basis for the columns of the inputed matrix. $R$ is an upper triangular matrix. I input a $(4,3)$ matrix built with $p_1$, $p_2$ and $p_3$ as columns.\n",
    "Then, I project $x$ on the computed basis and subtract the result to $x$. Finally we have $x=x_e+x^*$ with $x_e$ orthogonal to $x^*$"
   ]
  },
  {
   "cell_type": "code",
   "execution_count": 81,
   "metadata": {},
   "outputs": [
    {
     "name": "stdout",
     "output_type": "stream",
     "text": [
      "p1_ort = [-0.18257419 -0.36514837 -0.54772256 -0.73029674],  p2_ort=[ 0.97106927  0.068693   -0.17797733 -0.14363082],\n",
      "p3_ort=[-0.15173033  0.79816935 -0.57846266  0.0726949 ]\n",
      "x* = [0.985281   5.26984835 3.32872435 6.62221231]\n",
      "x_e = [ 0.014719   -0.26984835 -0.32872435  0.37778769]\n"
     ]
    }
   ],
   "source": [
    "def gram_schmidt(X):\n",
    "    return np.linalg.qr(X)[0]\n",
    "\n",
    "C=np.array([[1, 9, 3],\n",
    "  [2, -2, 4],\n",
    "  [3,-6,-2],\n",
    "  [4, -7,1]])\n",
    "\n",
    "X = np.array([1, 5, 3, 7])\n",
    "base = gram_schmidt(C)\n",
    "\n",
    "\n",
    "print(\"p1_ort = {0},  p2_ort={1},\\np3_ort={2}\".format(base[:,0], base[:,1], base[:,2]))\n",
    "\n",
    "\n",
    "def project_on_base(v=X):\n",
    "    base = gram_schmidt(C)\n",
    "    c1,c2,c3 = np.dot(base[:,0],X),np.dot(base[:,1],X),np.dot(base[:,2],X)\n",
    "    return c1*base[:,0],c2*base[:,1],c3*base[:,2]\n",
    "x_star = np.sum(project_on_base(), axis=0)\n",
    "print(\"x* = {}\".format(x_star))\n",
    "x_e = X-x_star\n",
    "assert (x_e + x_star == X).all()\n",
    "assert np.dot(x_e,x_star) <= 10**(-14) \n",
    "print(\"x_e = {}\".format(x_e))"
   ]
  }
 ],
 "metadata": {
  "kernelspec": {
   "display_name": "Python 3",
   "language": "python",
   "name": "python3"
  },
  "language_info": {
   "codemirror_mode": {
    "name": "ipython",
    "version": 3
   },
   "file_extension": ".py",
   "mimetype": "text/x-python",
   "name": "python",
   "nbconvert_exporter": "python",
   "pygments_lexer": "ipython3",
   "version": "3.7.3"
  }
 },
 "nbformat": 4,
 "nbformat_minor": 4
}
